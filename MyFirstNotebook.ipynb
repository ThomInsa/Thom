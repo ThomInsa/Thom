{
 "cells": [
  {
   "attachments": {},
   "cell_type": "markdown",
   "metadata": {},
   "source": [
    "# My First Notebook\n",
    "---"
   ]
  },
  {
   "attachments": {},
   "cell_type": "markdown",
   "metadata": {},
   "source": [
    "_This Notebook is part of the \"Data Science Tools\" course on Coursera, proposed by IBM in its Data Science Certificate_"
   ]
  },
  {
   "attachments": {},
   "cell_type": "markdown",
   "metadata": {},
   "source": [
    "## Data Science Languages\n",
    "The main languages for Data Science are :\n",
    "- Python\n",
    "- R\n",
    "- Julia\n",
    "Languages sometimes used for Data Science are JavaScript and C++."
   ]
  },
  {
   "attachments": {},
   "cell_type": "markdown",
   "metadata": {},
   "source": [
    "## Data Science Librairies\n",
    "The main librairies for Data Science are :\n",
    "- Numpy\n",
    "- Pandas\n",
    "- Matplotlib\n",
    "- ggplot (for R language)"
   ]
  },
  {
   "attachments": {},
   "cell_type": "markdown",
   "metadata": {},
   "source": [
    "## Data Science Tools\n",
    "\n",
    "\n",
    "| GitHub | JupyterLab | Visual Studio Code |\n",
    "| --- | --- | --- |\n",
    "| Regression | Interpolation | Linear Algebra |"
   ]
  },
  {
   "attachments": {},
   "cell_type": "markdown",
   "metadata": {},
   "source": [
    "## Introducing some arithmetic expressions\n",
    "\n",
    "- 5 + 3 is a example of arithmetic expression\n",
    "- 3*4 is another example of arithmetic expression"
   ]
  },
  {
   "cell_type": "code",
   "execution_count": 2,
   "metadata": {},
   "outputs": [
    {
     "name": "stdout",
     "output_type": "stream",
     "text": [
      "17\n"
     ]
    }
   ],
   "source": [
    "# Introducing addition and multiplication in Python\n",
    "\n",
    "a = 5\n",
    "b = 3\n",
    "c = 2\n",
    "\n",
    "print(b*a+c)"
   ]
  },
  {
   "attachments": {},
   "cell_type": "markdown",
   "metadata": {},
   "source": [
    "## A short program in Python"
   ]
  },
  {
   "cell_type": "code",
   "execution_count": 9,
   "metadata": {},
   "outputs": [
    {
     "name": "stdout",
     "output_type": "stream",
     "text": [
      "Let's convert minutes to hours\n",
      "Our number of minutes is  150\n",
      "Our number of hours is  2.5\n"
     ]
    }
   ],
   "source": [
    "# Converting minutes to hours\n",
    "\n",
    "print(\"Let's convert minutes to hours\")\n",
    "minutes = 150\n",
    "print(\"Our number of minutes is \", minutes)\n",
    "hours = minutes / 60\n",
    "print(\"Our number of hours is \", hours)"
   ]
  },
  {
   "attachments": {},
   "cell_type": "markdown",
   "metadata": {},
   "source": [
    "## Objectives of Data Science\n",
    "\n",
    "- Manipulating, visualising and exploiting data\n",
    "- Designing algorithms useful to Machine Learning and Deep Learning"
   ]
  },
  {
   "attachments": {},
   "cell_type": "markdown",
   "metadata": {},
   "source": [
    "### Author's name : Thomas AUBIN"
   ]
  }
 ],
 "metadata": {
  "kernelspec": {
   "display_name": "Python 3",
   "language": "python",
   "name": "python3"
  },
  "language_info": {
   "codemirror_mode": {
    "name": "ipython",
    "version": 3
   },
   "file_extension": ".py",
   "mimetype": "text/x-python",
   "name": "python",
   "nbconvert_exporter": "python",
   "pygments_lexer": "ipython3",
   "version": "3.10.0"
  },
  "orig_nbformat": 4
 },
 "nbformat": 4,
 "nbformat_minor": 2
}
